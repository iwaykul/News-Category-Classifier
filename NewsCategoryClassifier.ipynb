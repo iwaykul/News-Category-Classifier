{
 "cells": [
  {
   "cell_type": "code",
   "execution_count": 119,
   "metadata": {},
   "outputs": [],
   "source": [
    "from tensorflow.keras.preprocessing.text import Tokenizer\n",
    "from tensorflow.keras.preprocessing.sequence import pad_sequences\n",
    "from tensorflow.keras.layers import Embedding, Dense, Bidirectional, LSTM, Dropout\n",
    "import tensorflow as tf"
   ]
  },
  {
   "cell_type": "code",
   "execution_count": 2,
   "metadata": {},
   "outputs": [],
   "source": []
  },
  {
   "cell_type": "code",
   "execution_count": 18,
   "metadata": {},
   "outputs": [],
   "source": [
    "import json\n",
    "import random"
   ]
  },
  {
   "cell_type": "code",
   "execution_count": 4,
   "metadata": {},
   "outputs": [],
   "source": [
    "datastore = [json.loads(line) for line in open('News_Category_Dataset_v2.json', 'r')]"
   ]
  },
  {
   "cell_type": "code",
   "execution_count": null,
   "metadata": {},
   "outputs": [],
   "source": []
  },
  {
   "cell_type": "code",
   "execution_count": 60,
   "metadata": {},
   "outputs": [],
   "source": [
    "category_embeddings = {\"POLITICS\": 0, \"CRIME\": 1, \"ENTERTAINMENT\": 2, \"SPORTS\": 3, \"SCIENCE\": 4}"
   ]
  },
  {
   "cell_type": "code",
   "execution_count": 61,
   "metadata": {},
   "outputs": [],
   "source": [
    "short_description = []\n",
    "category = []\n",
    "urls = []\n",
    "check = 0\n",
    "random.shuffle(datastore)\n",
    "max_len = 0\n",
    "for item in datastore:\n",
    "    if (item['category'] == 'POLITICS' or\n",
    "       item['category'] == 'CRIME' or \n",
    "       item['category'] == 'ENTERTAINMENT' or \n",
    "       item['category'] == 'SPORTS' or \n",
    "       item['category'] == 'SCIENCE'):\n",
    "        short_description.append(item['headline'])\n",
    "        category.append(category_embeddings[item['category']])\n",
    "        urls.append(item['link'])"
   ]
  },
  {
   "cell_type": "code",
   "execution_count": 62,
   "metadata": {},
   "outputs": [
    {
     "name": "stdout",
     "output_type": "stream",
     "text": [
      "59264\n"
     ]
    }
   ],
   "source": [
    "print(len(short_description))"
   ]
  },
  {
   "cell_type": "code",
   "execution_count": 81,
   "metadata": {},
   "outputs": [],
   "source": [
    "vocab_size = 100000\n",
    "training_size = 37000\n",
    "max_length = 200\n",
    "embedding_dim = 16"
   ]
  },
  {
   "cell_type": "code",
   "execution_count": 82,
   "metadata": {},
   "outputs": [],
   "source": [
    "training_sentences = short_description[0:training_size]\n",
    "testing_sentences = short_description[training_size:]\n",
    "training_labels = category[0:training_size]\n",
    "testing_labels = category[training_size:]"
   ]
  },
  {
   "cell_type": "code",
   "execution_count": 91,
   "metadata": {},
   "outputs": [],
   "source": [
    "def get_max_len(sequence):\n",
    "    max_len = 0\n",
    "    for s in sequence: \n",
    "        max_len = max(max_len, len(s))\n",
    "    return max_len"
   ]
  },
  {
   "cell_type": "code",
   "execution_count": 102,
   "metadata": {},
   "outputs": [],
   "source": [
    "tokenizer = Tokenizer(num_words=vocab_size, oov_token=\"<OOV>\")\n",
    "tokenizer.fit_on_texts(training_sentences)\n",
    "word_index = tokenizer.word_index\n",
    "\n",
    "training_sequences = tokenizer.texts_to_sequences(training_sentences)\n",
    "#maxlen_train = get_max_len(training_sequences)\n",
    "#print(maxlen_train)\n",
    "training_padded = pad_sequences(training_sequences, \n",
    "                                maxlen=33,\n",
    "                                padding='post', \n",
    "                                truncating='post')"
   ]
  },
  {
   "cell_type": "code",
   "execution_count": 97,
   "metadata": {},
   "outputs": [],
   "source": []
  },
  {
   "cell_type": "code",
   "execution_count": 103,
   "metadata": {},
   "outputs": [],
   "source": [
    "testing_sequences = tokenizer.texts_to_sequences(testing_sentences)\n",
    "#maxlen_test = get_max_len(training_sequences)\n",
    "#print(maxlen_test)\n",
    "testing_padded = pad_sequences(testing_sequences, \n",
    "                                maxlen=33,\n",
    "                                padding='post', \n",
    "                                truncating='post')"
   ]
  },
  {
   "cell_type": "code",
   "execution_count": 104,
   "metadata": {},
   "outputs": [],
   "source": [
    "import numpy as np\n",
    "training_padded = np.array(training_padded)\n",
    "training_labels = np.array(training_labels)\n",
    "testing_padded = np.array(testing_padded)\n",
    "testing_labels = np.array(testing_labels)"
   ]
  },
  {
   "cell_type": "code",
   "execution_count": 109,
   "metadata": {},
   "outputs": [],
   "source": [
    "# Best Model   57% training     52% testing\n",
    "#model = tf.keras.Sequential([\n",
    "#    Embedding(voc_size, 256),\n",
    "#    LSTM(128),\n",
    "#    Dense(1, activation='sigmoid')\n",
    "##])\n",
    "#model.compile(loss='binary_crossentropy',optimizer='adam',metrics=['accuracy'])"
   ]
  },
  {
   "cell_type": "code",
   "execution_count": 122,
   "metadata": {},
   "outputs": [],
   "source": [
    "# Best Model\n",
    "model = tf.keras.Sequential([\n",
    "    Embedding(voc_size, 256),\n",
    "    LSTM(64, return_sequences=True),\n",
    "    LSTM(64),\n",
    "    Dropout(0.2),\n",
    "    Dense(1, activation='sigmoid')\n",
    "])\n",
    "model.compile(loss='binary_crossentropy',optimizer='adam',metrics=['accuracy'])"
   ]
  },
  {
   "cell_type": "markdown",
   "metadata": {},
   "source": [
    "model = tf.\n",
    "\n",
    "model.compile(loss='binary_crossentropy',optimizer='adam',metrics=['accuracy'])"
   ]
  },
  {
   "cell_type": "code",
   "execution_count": null,
   "metadata": {},
   "outputs": [
    {
     "name": "stdout",
     "output_type": "stream",
     "text": [
      "Epoch 1/10\n",
      "1157/1157 - 196s - loss: -1.2559e+01 - accuracy: 0.3473 - val_loss: -2.8030e+01 - val_accuracy: 0.4898\n",
      "Epoch 2/10\n",
      "1157/1157 - 185s - loss: -4.3391e+01 - accuracy: 0.4828 - val_loss: -5.5371e+01 - val_accuracy: 0.4846\n",
      "Epoch 3/10\n",
      "1157/1157 - 185s - loss: -7.5465e+01 - accuracy: 0.4743 - val_loss: -8.9355e+01 - val_accuracy: 0.5062\n",
      "Epoch 4/10\n",
      "1157/1157 - 11679s - loss: -1.1310e+02 - accuracy: 0.5095 - val_loss: -1.1487e+02 - val_accuracy: 0.4671\n",
      "Epoch 5/10\n"
     ]
    }
   ],
   "source": [
    "num_epochs = 10\n",
    "history = model.fit(training_padded, training_labels, epochs=num_epochs, validation_data=(testing_padded, testing_labels), verbose=2)"
   ]
  }
 ],
 "metadata": {
  "kernelspec": {
   "display_name": "Python 3",
   "language": "python",
   "name": "python3"
  },
  "language_info": {
   "codemirror_mode": {
    "name": "ipython",
    "version": 3
   },
   "file_extension": ".py",
   "mimetype": "text/x-python",
   "name": "python",
   "nbconvert_exporter": "python",
   "pygments_lexer": "ipython3",
   "version": "3.6.4"
  }
 },
 "nbformat": 4,
 "nbformat_minor": 4
}
